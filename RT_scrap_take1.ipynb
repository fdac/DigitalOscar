{
 "metadata": {
  "name": "",
  "signature": "sha256:b891ab624f1d1ac4945e41ee19cd57b240f945c54e67d7b58ddd648f3a9afe8c"
 },
 "nbformat": 3,
 "nbformat_minor": 0,
 "worksheets": [
  {
   "cells": [
    {
     "cell_type": "code",
     "collapsed": false,
     "input": [
      "\n",
      "import urllib2\n",
      "from bs4 import BeautifulSoup\n",
      "import json\n",
      "import csv\n",
      "import time\n",
      "\n",
      "apikey = str()\n",
      "apikey=\"hcusd86ypxdrubmm5wjdskp3\"\n",
      "\n",
      "# Function to clean up characters from wikipedia movie titles\n",
      "def cleanUp(movie_title):\n",
      "\tmovie_title = movie_title.replace(\"'\", \"\")\n",
      "\tmovie_title = movie_title.replace(\"&\", \"and\")\n",
      "\tmovie_title = movie_title.replace(\" \",\"+\")\n",
      "\tmovie_title = movie_title.replace(\":\", \"+\")\n",
      "\tmovie_title = movie_title.replace('(film)', '')\n",
      "\tmovie_title = movie_title.replace('(' + str(year) + ' film)', '')\n",
      "\treturn movie_title\n",
      "\n",
      "# Function to visit Rotten Tomatoes API and grab movie's data\n",
      "def movieGrab(movie_title, key):\n",
      "\ttitle = cleanUp(movie_title)\n",
      "\tmovie_url = \"http://api.rottentomatoes.com/api/public/v1.0/movies.json?apikey=\" + key + \"&q=\" + title + \"&page_limit=1\"\n",
      "\tmovie_page = urllib2.urlopen(movie_url)\n",
      "\tmovie_soup = BeautifulSoup(movie_page)\n",
      "\tmovie_data = movie_soup.get_text()\n",
      "\tjson_movie_data = json.loads(movie_data)\n",
      "\treturn json_movie_data\n",
      "\n",
      "# Function to visit Rotten Tomatoes API and grab movie's reviews\n",
      "def reviewGrab(movie_title, key):\n",
      "\treview_url = \"http://api.rottentomatoes.com/api/public/v1.0/movies/\" + json_movie_data[\"movies\"][0][\"id\"] + \"/reviews.json?review_type=all&apikey=\" + key\n",
      "\treview_page = urllib2.urlopen(review_url)\n",
      "\treview_soup = BeautifulSoup(review_page)\n",
      "\treview_data = review_soup.get_text()\n",
      "\tjson_review_data = json.loads(review_data)\t\n",
      "\treturn json_review_data\n",
      "\n",
      "# Years to scrape data from.\n",
      "# NOTE: Full list of years of film on wikipedia: \n",
      "# http://en.wikipedia.org/wiki/Category:Years_in_film\n",
      "# NOTE: User should double-check that the year they're intrested\n",
      "# in scrapping matches the formatting used in 2012's year in film:\n",
      "# http://en.wikipedia.org/wiki/2012_in_film\n",
      "\n",
      "# years = [2012] # Single year\n",
      "years = [ 1990, 1991, 1992, 1993, 1994, 1995, 1996, 1997, 1998, 1999, 2000, 2001, 2002, 2003, 2004, 2005, 2006, 2007, 2008, 2009, 2010, 2011, 2012, 2013]\n",
      "\n",
      "\n",
      "# Create file and write header\n",
      "f = open('All_RT_Movies1.tsv', 'w')\n",
      "dataWriter = csv.writer(f, delimiter='\\t', quotechar='\"')\n",
      "dataWriter.writerow([\"rotten_id\", \"title\", \"year\", \"mpaa_rating\", \"runtime\", \"release_theater\", \"release_dvd\", \"critics_rating\", \"critics_score\", \"audience_rating\", \"audience_score\", \"reviews_num\"])\n",
      "\n",
      "# scrape scrape scrape ...\n",
      "# Visit wikipedia to scrape movie data:\n",
      "for year in years:\n",
      "\tsite = \"http://www.wikipedia.org/wiki/\" + str(year) + \"_in_film\"\n",
      "\tpage = urllib2.urlopen(site)\n",
      "\tsoup = BeautifulSoup(page)\n",
      "\ttable = soup.find_all(\"table\", \"wikitable\") #, { \"class\" : \"wikitable sortable\" })\n",
      "\t\n",
      "\t# Grab 3rd through 6th table.\n",
      "\t# NOTE: I broke this part up into 2 seperate cases to (1) deal with \n",
      "\t# formatting issues and (2) simplify the error handling process. For\n",
      "\t# example, movies without dvd-release dates are skipped. Ideally, one\n",
      "\t# could add 'missing-values' for these movies. I opted not to do so\n",
      "\t# at this point and time.\n",
      "for i in range(2, 6):\n",
      "\t\tcells = table[i].find_all(\"td\")\n",
      "\t\tfor row in cells:\n",
      "\t\t\tif row.i != None and str(row.i.next_element)[0] != \"<\":\n",
      "\t\t\t\ttitle = row.i.next_element\n",
      "\t\t\t\ttry:\n",
      "\t\t\t\t\ttime.sleep(0.25)\n",
      "\t\t\t\t\tjson_movie_data = movieGrab(title, apikey)\n",
      "\t\t\t\t\tjson_review_data = reviewGrab(title, apikey)\t\t\n",
      "\t\t\t\t\tdataWriter.writerow([json_movie_data[\"movies\"][0][\"id\"],\n",
      "\t\t\t\t\tjson_movie_data[\"movies\"][0][\"title\"],\n",
      "\t\t\t\t\tjson_movie_data[\"movies\"][0][\"year\"],\n",
      "\t\t\t\t\tjson_movie_data[\"movies\"][0][\"mpaa_rating\"],\n",
      "\t\t\t\t\tjson_movie_data[\"movies\"][0][\"runtime\"],\n",
      "\t\t\t\t\tjson_movie_data[\"movies\"][0][\"release_dates\"][\"theater\"],\n",
      "\t\t\t\t\tjson_movie_data[\"movies\"][0][\"release_dates\"][\"dvd\"],\n",
      "\t\t\t\t\tjson_movie_data[\"movies\"][0][\"ratings\"][\"critics_score\"],\n",
      "\t\t\t\t\tjson_movie_data[\"movies\"][0][\"ratings\"][\"critics_rating\"],\n",
      "\t\t\t\t\tjson_movie_data[\"movies\"][0][\"ratings\"][\"audience_score\"],\n",
      "\t\t\t\t\tjson_movie_data[\"movies\"][0][\"ratings\"][\"audience_rating\"],\n",
      "\t\t\t\t\tjson_review_data[\"total\"]])\n",
      "\t\t\t\texcept:\n",
      "\t\t\t\t\tpass\n",
      "\n",
      "\n",
      "\t\tfor row in cells:\n",
      "\t\t\ttry:\n",
      "\t\t\t\ttitle = row.i.a.get('title').replace(u'\\xe9', 'e')\n",
      "\t\t\t\ttime.sleep(0.25)\n",
      "\t\t\t\tjson_movie_data = movieGrab(title, apikey)\n",
      "\t\t\t\tjson_review_data = reviewGrab(title, apikey)\t\t\n",
      "\t\t\t\tdataWriter.writerow([json_movie_data[\"movies\"][0][\"id\"],\n",
      "\t\t\t\tjson_movie_data[\"movies\"][0][\"title\"],\n",
      "\t\t\t\tjson_movie_data[\"movies\"][0][\"year\"],\n",
      "\t\t\t\tjson_movie_data[\"movies\"][0][\"mpaa_rating\"],\n",
      "\t\t\t\tjson_movie_data[\"movies\"][0][\"runtime\"],\n",
      "\t\t\t\tjson_movie_data[\"movies\"][0][\"release_dates\"][\"theater\"],\n",
      "\t\t\t\tjson_movie_data[\"movies\"][0][\"release_dates\"][\"dvd\"],\n",
      "\t\t\t\tjson_movie_data[\"movies\"][0][\"ratings\"][\"critics_score\"],\n",
      "\t\t\t\tjson_movie_data[\"movies\"][0][\"ratings\"][\"critics_rating\"],\n",
      "\t\t\t\tjson_movie_data[\"movies\"][0][\"ratings\"][\"audience_score\"],\n",
      "\t\t\t\tjson_movie_data[\"movies\"][0][\"ratings\"][\"audience_rating\"],\n",
      "\t\t\t\tjson_review_data[\"total\"]])\n",
      "\t\t\texcept:\n",
      "\t\t\t\tpass\n",
      "f.close()\n"
     ],
     "language": "python",
     "metadata": {},
     "outputs": [
      {
       "ename": "URLError",
       "evalue": "<urlopen error [Errno -2] Name or service not known>",
       "output_type": "pyerr",
       "traceback": [
        "\u001b[1;31m---------------------------------------------------------------------------\u001b[0m\n\u001b[1;31mURLError\u001b[0m                                  Traceback (most recent call last)",
        "\u001b[1;32m<ipython-input-4-55fc98de7d03>\u001b[0m in \u001b[0;36m<module>\u001b[1;34m()\u001b[0m\n\u001b[0;32m     58\u001b[0m \u001b[1;32mfor\u001b[0m \u001b[0myear\u001b[0m \u001b[1;32min\u001b[0m \u001b[0myears\u001b[0m\u001b[1;33m:\u001b[0m\u001b[1;33m\u001b[0m\u001b[0m\n\u001b[0;32m     59\u001b[0m         \u001b[0msite\u001b[0m \u001b[1;33m=\u001b[0m \u001b[1;34m\"http://www.wikipedia.org/wiki/\"\u001b[0m \u001b[1;33m+\u001b[0m \u001b[0mstr\u001b[0m\u001b[1;33m(\u001b[0m\u001b[0myear\u001b[0m\u001b[1;33m)\u001b[0m \u001b[1;33m+\u001b[0m \u001b[1;34m\"_in_film\"\u001b[0m\u001b[1;33m\u001b[0m\u001b[0m\n\u001b[1;32m---> 60\u001b[1;33m         \u001b[0mpage\u001b[0m \u001b[1;33m=\u001b[0m \u001b[0murllib2\u001b[0m\u001b[1;33m.\u001b[0m\u001b[0murlopen\u001b[0m\u001b[1;33m(\u001b[0m\u001b[0msite\u001b[0m\u001b[1;33m)\u001b[0m\u001b[1;33m\u001b[0m\u001b[0m\n\u001b[0m\u001b[0;32m     61\u001b[0m         \u001b[0msoup\u001b[0m \u001b[1;33m=\u001b[0m \u001b[0mBeautifulSoup\u001b[0m\u001b[1;33m(\u001b[0m\u001b[0mpage\u001b[0m\u001b[1;33m)\u001b[0m\u001b[1;33m\u001b[0m\u001b[0m\n\u001b[0;32m     62\u001b[0m         \u001b[0mtable\u001b[0m \u001b[1;33m=\u001b[0m \u001b[0msoup\u001b[0m\u001b[1;33m.\u001b[0m\u001b[0mfind_all\u001b[0m\u001b[1;33m(\u001b[0m\u001b[1;34m\"table\"\u001b[0m\u001b[1;33m,\u001b[0m \u001b[1;34m\"wikitable\"\u001b[0m\u001b[1;33m)\u001b[0m \u001b[1;31m#, { \"class\" : \"wikitable sortable\" })\u001b[0m\u001b[1;33m\u001b[0m\u001b[0m\n",
        "\u001b[1;32m/usr/lib/python2.7/urllib2.pyc\u001b[0m in \u001b[0;36murlopen\u001b[1;34m(url, data, timeout)\u001b[0m\n\u001b[0;32m    125\u001b[0m     \u001b[1;32mif\u001b[0m \u001b[0m_opener\u001b[0m \u001b[1;32mis\u001b[0m \u001b[0mNone\u001b[0m\u001b[1;33m:\u001b[0m\u001b[1;33m\u001b[0m\u001b[0m\n\u001b[0;32m    126\u001b[0m         \u001b[0m_opener\u001b[0m \u001b[1;33m=\u001b[0m \u001b[0mbuild_opener\u001b[0m\u001b[1;33m(\u001b[0m\u001b[1;33m)\u001b[0m\u001b[1;33m\u001b[0m\u001b[0m\n\u001b[1;32m--> 127\u001b[1;33m     \u001b[1;32mreturn\u001b[0m \u001b[0m_opener\u001b[0m\u001b[1;33m.\u001b[0m\u001b[0mopen\u001b[0m\u001b[1;33m(\u001b[0m\u001b[0murl\u001b[0m\u001b[1;33m,\u001b[0m \u001b[0mdata\u001b[0m\u001b[1;33m,\u001b[0m \u001b[0mtimeout\u001b[0m\u001b[1;33m)\u001b[0m\u001b[1;33m\u001b[0m\u001b[0m\n\u001b[0m\u001b[0;32m    128\u001b[0m \u001b[1;33m\u001b[0m\u001b[0m\n\u001b[0;32m    129\u001b[0m \u001b[1;32mdef\u001b[0m \u001b[0minstall_opener\u001b[0m\u001b[1;33m(\u001b[0m\u001b[0mopener\u001b[0m\u001b[1;33m)\u001b[0m\u001b[1;33m:\u001b[0m\u001b[1;33m\u001b[0m\u001b[0m\n",
        "\u001b[1;32m/usr/lib/python2.7/urllib2.pyc\u001b[0m in \u001b[0;36mopen\u001b[1;34m(self, fullurl, data, timeout)\u001b[0m\n\u001b[0;32m    402\u001b[0m             \u001b[0mreq\u001b[0m \u001b[1;33m=\u001b[0m \u001b[0mmeth\u001b[0m\u001b[1;33m(\u001b[0m\u001b[0mreq\u001b[0m\u001b[1;33m)\u001b[0m\u001b[1;33m\u001b[0m\u001b[0m\n\u001b[0;32m    403\u001b[0m \u001b[1;33m\u001b[0m\u001b[0m\n\u001b[1;32m--> 404\u001b[1;33m         \u001b[0mresponse\u001b[0m \u001b[1;33m=\u001b[0m \u001b[0mself\u001b[0m\u001b[1;33m.\u001b[0m\u001b[0m_open\u001b[0m\u001b[1;33m(\u001b[0m\u001b[0mreq\u001b[0m\u001b[1;33m,\u001b[0m \u001b[0mdata\u001b[0m\u001b[1;33m)\u001b[0m\u001b[1;33m\u001b[0m\u001b[0m\n\u001b[0m\u001b[0;32m    405\u001b[0m \u001b[1;33m\u001b[0m\u001b[0m\n\u001b[0;32m    406\u001b[0m         \u001b[1;31m# post-process response\u001b[0m\u001b[1;33m\u001b[0m\u001b[1;33m\u001b[0m\u001b[0m\n",
        "\u001b[1;32m/usr/lib/python2.7/urllib2.pyc\u001b[0m in \u001b[0;36m_open\u001b[1;34m(self, req, data)\u001b[0m\n\u001b[0;32m    420\u001b[0m         \u001b[0mprotocol\u001b[0m \u001b[1;33m=\u001b[0m \u001b[0mreq\u001b[0m\u001b[1;33m.\u001b[0m\u001b[0mget_type\u001b[0m\u001b[1;33m(\u001b[0m\u001b[1;33m)\u001b[0m\u001b[1;33m\u001b[0m\u001b[0m\n\u001b[0;32m    421\u001b[0m         result = self._call_chain(self.handle_open, protocol, protocol +\n\u001b[1;32m--> 422\u001b[1;33m                                   '_open', req)\n\u001b[0m\u001b[0;32m    423\u001b[0m         \u001b[1;32mif\u001b[0m \u001b[0mresult\u001b[0m\u001b[1;33m:\u001b[0m\u001b[1;33m\u001b[0m\u001b[0m\n\u001b[0;32m    424\u001b[0m             \u001b[1;32mreturn\u001b[0m \u001b[0mresult\u001b[0m\u001b[1;33m\u001b[0m\u001b[0m\n",
        "\u001b[1;32m/usr/lib/python2.7/urllib2.pyc\u001b[0m in \u001b[0;36m_call_chain\u001b[1;34m(self, chain, kind, meth_name, *args)\u001b[0m\n\u001b[0;32m    380\u001b[0m             \u001b[0mfunc\u001b[0m \u001b[1;33m=\u001b[0m \u001b[0mgetattr\u001b[0m\u001b[1;33m(\u001b[0m\u001b[0mhandler\u001b[0m\u001b[1;33m,\u001b[0m \u001b[0mmeth_name\u001b[0m\u001b[1;33m)\u001b[0m\u001b[1;33m\u001b[0m\u001b[0m\n\u001b[0;32m    381\u001b[0m \u001b[1;33m\u001b[0m\u001b[0m\n\u001b[1;32m--> 382\u001b[1;33m             \u001b[0mresult\u001b[0m \u001b[1;33m=\u001b[0m \u001b[0mfunc\u001b[0m\u001b[1;33m(\u001b[0m\u001b[1;33m*\u001b[0m\u001b[0margs\u001b[0m\u001b[1;33m)\u001b[0m\u001b[1;33m\u001b[0m\u001b[0m\n\u001b[0m\u001b[0;32m    383\u001b[0m             \u001b[1;32mif\u001b[0m \u001b[0mresult\u001b[0m \u001b[1;32mis\u001b[0m \u001b[1;32mnot\u001b[0m \u001b[0mNone\u001b[0m\u001b[1;33m:\u001b[0m\u001b[1;33m\u001b[0m\u001b[0m\n\u001b[0;32m    384\u001b[0m                 \u001b[1;32mreturn\u001b[0m \u001b[0mresult\u001b[0m\u001b[1;33m\u001b[0m\u001b[0m\n",
        "\u001b[1;32m/usr/lib/python2.7/urllib2.pyc\u001b[0m in \u001b[0;36mhttp_open\u001b[1;34m(self, req)\u001b[0m\n\u001b[0;32m   1212\u001b[0m \u001b[1;33m\u001b[0m\u001b[0m\n\u001b[0;32m   1213\u001b[0m     \u001b[1;32mdef\u001b[0m \u001b[0mhttp_open\u001b[0m\u001b[1;33m(\u001b[0m\u001b[0mself\u001b[0m\u001b[1;33m,\u001b[0m \u001b[0mreq\u001b[0m\u001b[1;33m)\u001b[0m\u001b[1;33m:\u001b[0m\u001b[1;33m\u001b[0m\u001b[0m\n\u001b[1;32m-> 1214\u001b[1;33m         \u001b[1;32mreturn\u001b[0m \u001b[0mself\u001b[0m\u001b[1;33m.\u001b[0m\u001b[0mdo_open\u001b[0m\u001b[1;33m(\u001b[0m\u001b[0mhttplib\u001b[0m\u001b[1;33m.\u001b[0m\u001b[0mHTTPConnection\u001b[0m\u001b[1;33m,\u001b[0m \u001b[0mreq\u001b[0m\u001b[1;33m)\u001b[0m\u001b[1;33m\u001b[0m\u001b[0m\n\u001b[0m\u001b[0;32m   1215\u001b[0m \u001b[1;33m\u001b[0m\u001b[0m\n\u001b[0;32m   1216\u001b[0m     \u001b[0mhttp_request\u001b[0m \u001b[1;33m=\u001b[0m \u001b[0mAbstractHTTPHandler\u001b[0m\u001b[1;33m.\u001b[0m\u001b[0mdo_request_\u001b[0m\u001b[1;33m\u001b[0m\u001b[0m\n",
        "\u001b[1;32m/usr/lib/python2.7/urllib2.pyc\u001b[0m in \u001b[0;36mdo_open\u001b[1;34m(self, http_class, req)\u001b[0m\n\u001b[0;32m   1182\u001b[0m         \u001b[1;32mexcept\u001b[0m \u001b[0msocket\u001b[0m\u001b[1;33m.\u001b[0m\u001b[0merror\u001b[0m\u001b[1;33m,\u001b[0m \u001b[0merr\u001b[0m\u001b[1;33m:\u001b[0m \u001b[1;31m# XXX what error?\u001b[0m\u001b[1;33m\u001b[0m\u001b[0m\n\u001b[0;32m   1183\u001b[0m             \u001b[0mh\u001b[0m\u001b[1;33m.\u001b[0m\u001b[0mclose\u001b[0m\u001b[1;33m(\u001b[0m\u001b[1;33m)\u001b[0m\u001b[1;33m\u001b[0m\u001b[0m\n\u001b[1;32m-> 1184\u001b[1;33m             \u001b[1;32mraise\u001b[0m \u001b[0mURLError\u001b[0m\u001b[1;33m(\u001b[0m\u001b[0merr\u001b[0m\u001b[1;33m)\u001b[0m\u001b[1;33m\u001b[0m\u001b[0m\n\u001b[0m\u001b[0;32m   1185\u001b[0m         \u001b[1;32melse\u001b[0m\u001b[1;33m:\u001b[0m\u001b[1;33m\u001b[0m\u001b[0m\n\u001b[0;32m   1186\u001b[0m             \u001b[1;32mtry\u001b[0m\u001b[1;33m:\u001b[0m\u001b[1;33m\u001b[0m\u001b[0m\n",
        "\u001b[1;31mURLError\u001b[0m: <urlopen error [Errno -2] Name or service not known>"
       ]
      }
     ],
     "prompt_number": 4
    },
    {
     "cell_type": "code",
     "collapsed": false,
     "input": [
      "sudo pip install unidecode"
     ],
     "language": "python",
     "metadata": {},
     "outputs": [
      {
       "ename": "SyntaxError",
       "evalue": "invalid syntax (<ipython-input-11-a5e7c748f006>, line 1)",
       "output_type": "pyerr",
       "traceback": [
        "\u001b[1;36m  File \u001b[1;32m\"<ipython-input-11-a5e7c748f006>\"\u001b[1;36m, line \u001b[1;32m1\u001b[0m\n\u001b[1;33m    sudo pip install unidecode\u001b[0m\n\u001b[1;37m           ^\u001b[0m\n\u001b[1;31mSyntaxError\u001b[0m\u001b[1;31m:\u001b[0m invalid syntax\n"
       ]
      }
     ],
     "prompt_number": 11
    },
    {
     "cell_type": "code",
     "collapsed": false,
     "input": [
      "from unidecode import unidecode"
     ],
     "language": "python",
     "metadata": {},
     "outputs": [
      {
       "ename": "ImportError",
       "evalue": "No module named unidecode",
       "output_type": "pyerr",
       "traceback": [
        "\u001b[1;31m---------------------------------------------------------------------------\u001b[0m\n\u001b[1;31mImportError\u001b[0m                               Traceback (most recent call last)",
        "\u001b[1;32m<ipython-input-12-456bf5335f84>\u001b[0m in \u001b[0;36m<module>\u001b[1;34m()\u001b[0m\n\u001b[1;32m----> 1\u001b[1;33m \u001b[1;32mfrom\u001b[0m \u001b[0munidecode\u001b[0m \u001b[1;32mimport\u001b[0m \u001b[0munidecode\u001b[0m\u001b[1;33m\u001b[0m\u001b[0m\n\u001b[0m",
        "\u001b[1;31mImportError\u001b[0m: No module named unidecode"
       ]
      }
     ],
     "prompt_number": 12
    },
    {
     "cell_type": "code",
     "collapsed": false,
     "input": [
      "import os\n",
      "\n",
      "from bs4 import BeautifulSoup\n",
      "import urllib\n",
      "import codecs\n",
      "from unidecode import unidecode\n",
      "\n",
      "import networkx as nx\n",
      "\n",
      "import re\n",
      "\n",
      "import numpy as num\n",
      "from numpy import matlib"
     ],
     "language": "python",
     "metadata": {},
     "outputs": [
      {
       "ename": "ImportError",
       "evalue": "No module named unidecode",
       "output_type": "pyerr",
       "traceback": [
        "\u001b[1;31m---------------------------------------------------------------------------\u001b[0m\n\u001b[1;31mImportError\u001b[0m                               Traceback (most recent call last)",
        "\u001b[1;32m<ipython-input-13-1ed45f84defc>\u001b[0m in \u001b[0;36m<module>\u001b[1;34m()\u001b[0m\n\u001b[0;32m      4\u001b[0m \u001b[1;32mimport\u001b[0m \u001b[0murllib\u001b[0m\u001b[1;33m\u001b[0m\u001b[0m\n\u001b[0;32m      5\u001b[0m \u001b[1;32mimport\u001b[0m \u001b[0mcodecs\u001b[0m\u001b[1;33m\u001b[0m\u001b[0m\n\u001b[1;32m----> 6\u001b[1;33m \u001b[1;32mfrom\u001b[0m \u001b[0munidecode\u001b[0m \u001b[1;32mimport\u001b[0m \u001b[0munidecode\u001b[0m\u001b[1;33m\u001b[0m\u001b[0m\n\u001b[0m\u001b[0;32m      7\u001b[0m \u001b[1;33m\u001b[0m\u001b[0m\n\u001b[0;32m      8\u001b[0m \u001b[1;32mimport\u001b[0m \u001b[0mnetworkx\u001b[0m \u001b[1;32mas\u001b[0m \u001b[0mnx\u001b[0m\u001b[1;33m\u001b[0m\u001b[0m\n",
        "\u001b[1;31mImportError\u001b[0m: No module named unidecode"
       ]
      }
     ],
     "prompt_number": 13
    },
    {
     "cell_type": "code",
     "collapsed": false,
     "input": [
      "python setup.py install\n",
      "python setup.py test"
     ],
     "language": "python",
     "metadata": {},
     "outputs": [
      {
       "ename": "SyntaxError",
       "evalue": "invalid syntax (<ipython-input-14-511e8d182891>, line 1)",
       "output_type": "pyerr",
       "traceback": [
        "\u001b[1;36m  File \u001b[1;32m\"<ipython-input-14-511e8d182891>\"\u001b[1;36m, line \u001b[1;32m1\u001b[0m\n\u001b[1;33m    python setup.py install\u001b[0m\n\u001b[1;37m               ^\u001b[0m\n\u001b[1;31mSyntaxError\u001b[0m\u001b[1;31m:\u001b[0m invalid syntax\n"
       ]
      }
     ],
     "prompt_number": 14
    },
    {
     "cell_type": "code",
     "collapsed": false,
     "input": [
      "git clone http://www.tablix.org/~avian/git/unidecode.git"
     ],
     "language": "python",
     "metadata": {},
     "outputs": [
      {
       "ename": "SyntaxError",
       "evalue": "invalid syntax (<ipython-input-15-34485dd5fcd3>, line 1)",
       "output_type": "pyerr",
       "traceback": [
        "\u001b[1;36m  File \u001b[1;32m\"<ipython-input-15-34485dd5fcd3>\"\u001b[1;36m, line \u001b[1;32m1\u001b[0m\n\u001b[1;33m    git clone http://www.tablix.org/~avian/git/unidecode.git\u001b[0m\n\u001b[1;37m            ^\u001b[0m\n\u001b[1;31mSyntaxError\u001b[0m\u001b[1;31m:\u001b[0m invalid syntax\n"
       ]
      }
     ],
     "prompt_number": 15
    },
    {
     "cell_type": "code",
     "collapsed": false,
     "input": [
      "file=open(\"f.tsv\",\"r\")\n",
      "files=open('f', 'r').readlines()"
     ],
     "language": "python",
     "metadata": {},
     "outputs": [
      {
       "ename": "IOError",
       "evalue": "[Errno 2] No such file or directory: 'f'",
       "output_type": "pyerr",
       "traceback": [
        "\u001b[1;31m---------------------------------------------------------------------------\u001b[0m\n\u001b[1;31mIOError\u001b[0m                                   Traceback (most recent call last)",
        "\u001b[1;32m<ipython-input-31-7e57fa111831>\u001b[0m in \u001b[0;36m<module>\u001b[1;34m()\u001b[0m\n\u001b[0;32m      1\u001b[0m \u001b[0mfile\u001b[0m\u001b[1;33m=\u001b[0m\u001b[0mopen\u001b[0m\u001b[1;33m(\u001b[0m\u001b[1;34m\"f.tsv\"\u001b[0m\u001b[1;33m,\u001b[0m\u001b[1;34m\"r\"\u001b[0m\u001b[1;33m)\u001b[0m\u001b[1;33m\u001b[0m\u001b[0m\n\u001b[1;32m----> 2\u001b[1;33m \u001b[0mfiles\u001b[0m\u001b[1;33m=\u001b[0m\u001b[0mopen\u001b[0m\u001b[1;33m(\u001b[0m\u001b[1;34m'f'\u001b[0m\u001b[1;33m,\u001b[0m \u001b[1;34m'r'\u001b[0m\u001b[1;33m)\u001b[0m\u001b[1;33m.\u001b[0m\u001b[0mreadlines\u001b[0m\u001b[1;33m(\u001b[0m\u001b[1;33m)\u001b[0m\u001b[1;33m\u001b[0m\u001b[0m\n\u001b[0m",
        "\u001b[1;31mIOError\u001b[0m: [Errno 2] No such file or directory: 'f'"
       ]
      }
     ],
     "prompt_number": 31
    },
    {
     "cell_type": "code",
     "collapsed": true,
     "input": [],
     "language": "python",
     "metadata": {},
     "outputs": []
    }
   ],
   "metadata": {}
  }
 ]
}